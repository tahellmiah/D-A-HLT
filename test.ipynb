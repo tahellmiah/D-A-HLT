{
 "cells": [
  {
   "cell_type": "code",
   "execution_count": 12,
   "metadata": {},
   "outputs": [],
   "source": [
    "import altair as alt\n",
    "import pandas as pd"
   ]
  },
  {
   "cell_type": "code",
   "execution_count": null,
   "metadata": {},
   "outputs": [],
   "source": [
    "from google.colab import files\n",
    "uploaded = files.upload()"
   ]
  },
  {
   "cell_type": "code",
   "execution_count": null,
   "metadata": {},
   "outputs": [],
   "source": [
    "import io\n",
    "df2 = pd.read_csv(io.BytesIO(uploaded['name_gender_dataset.csv']))"
   ]
  },
  {
   "cell_type": "code",
   "execution_count": 61,
   "metadata": {},
   "outputs": [
    {
     "name": "stdout",
     "output_type": "stream",
     "text": [
      "          Name Gender    Count  Probability\n",
      "0        James      M  5304407      0.01452\n",
      "1         John      M  5260831      0.01440\n",
      "2       Robert      M  4970386      0.01360\n",
      "3      Michael      M  4579950      0.01253\n",
      "4      William      M  4226608      0.01157\n",
      "..         ...    ...      ...          ...\n",
      "232  Josephine      F   312080      0.00085\n",
      "233     Ernest      M   307247      0.00084\n",
      "234    Stanley      M   306812      0.00084\n",
      "235       Cody      M   306357      0.00084\n",
      "236   Clarence      M   305503      0.00084\n",
      "\n",
      "[237 rows x 4 columns]\n"
     ]
    }
   ],
   "source": [
    "data = pd.read_csv(\"name_gender_dataset.csv\")\n",
    "print(data)"
   ]
  },
  {
   "cell_type": "code",
   "execution_count": 37,
   "metadata": {},
   "outputs": [
    {
     "data": {
      "text/html": [
       "<div>\n",
       "<style scoped>\n",
       "    .dataframe tbody tr th:only-of-type {\n",
       "        vertical-align: middle;\n",
       "    }\n",
       "\n",
       "    .dataframe tbody tr th {\n",
       "        vertical-align: top;\n",
       "    }\n",
       "\n",
       "    .dataframe thead th {\n",
       "        text-align: right;\n",
       "    }\n",
       "</style>\n",
       "<table border=\"1\" class=\"dataframe\">\n",
       "  <thead>\n",
       "    <tr style=\"text-align: right;\">\n",
       "      <th></th>\n",
       "      <th>Name</th>\n",
       "      <th>Gender</th>\n",
       "      <th>Count</th>\n",
       "      <th>Probability</th>\n",
       "    </tr>\n",
       "  </thead>\n",
       "  <tbody>\n",
       "    <tr>\n",
       "      <th>0</th>\n",
       "      <td>James</td>\n",
       "      <td>M</td>\n",
       "      <td>5304407</td>\n",
       "      <td>0.015</td>\n",
       "    </tr>\n",
       "    <tr>\n",
       "      <th>1</th>\n",
       "      <td>John</td>\n",
       "      <td>M</td>\n",
       "      <td>5260831</td>\n",
       "      <td>0.014</td>\n",
       "    </tr>\n",
       "    <tr>\n",
       "      <th>2</th>\n",
       "      <td>Robert</td>\n",
       "      <td>M</td>\n",
       "      <td>4970386</td>\n",
       "      <td>0.014</td>\n",
       "    </tr>\n",
       "    <tr>\n",
       "      <th>3</th>\n",
       "      <td>Michael</td>\n",
       "      <td>M</td>\n",
       "      <td>4579950</td>\n",
       "      <td>0.013</td>\n",
       "    </tr>\n",
       "    <tr>\n",
       "      <th>4</th>\n",
       "      <td>William</td>\n",
       "      <td>M</td>\n",
       "      <td>4226608</td>\n",
       "      <td>0.012</td>\n",
       "    </tr>\n",
       "  </tbody>\n",
       "</table>\n",
       "</div>"
      ],
      "text/plain": [
       "      Name Gender    Count  Probability\n",
       "0    James      M  5304407        0.015\n",
       "1     John      M  5260831        0.014\n",
       "2   Robert      M  4970386        0.014\n",
       "3  Michael      M  4579950        0.013\n",
       "4  William      M  4226608        0.012"
      ]
     },
     "execution_count": 37,
     "metadata": {},
     "output_type": "execute_result"
    }
   ],
   "source": [
    "data.head()"
   ]
  },
  {
   "cell_type": "code",
   "execution_count": null,
   "metadata": {},
   "outputs": [],
   "source": [
    "from vega_datasets import data"
   ]
  },
  {
   "cell_type": "code",
   "execution_count": 19,
   "metadata": {},
   "outputs": [],
   "source": [
    "brush = alt.selection_interval()"
   ]
  },
  {
   "cell_type": "code",
   "execution_count": 62,
   "metadata": {},
   "outputs": [
    {
     "data": {
      "text/html": [
       "\n",
       "<div id=\"altair-viz-f5a17a5279b644dba2aa7db35ed6455b\"></div>\n",
       "<script type=\"text/javascript\">\n",
       "  (function(spec, embedOpt){\n",
       "    let outputDiv = document.currentScript.previousElementSibling;\n",
       "    if (outputDiv.id !== \"altair-viz-f5a17a5279b644dba2aa7db35ed6455b\") {\n",
       "      outputDiv = document.getElementById(\"altair-viz-f5a17a5279b644dba2aa7db35ed6455b\");\n",
       "    }\n",
       "    const paths = {\n",
       "      \"vega\": \"https://cdn.jsdelivr.net/npm//vega@5?noext\",\n",
       "      \"vega-lib\": \"https://cdn.jsdelivr.net/npm//vega-lib?noext\",\n",
       "      \"vega-lite\": \"https://cdn.jsdelivr.net/npm//vega-lite@4.8.1?noext\",\n",
       "      \"vega-embed\": \"https://cdn.jsdelivr.net/npm//vega-embed@6?noext\",\n",
       "    };\n",
       "\n",
       "    function loadScript(lib) {\n",
       "      return new Promise(function(resolve, reject) {\n",
       "        var s = document.createElement('script');\n",
       "        s.src = paths[lib];\n",
       "        s.async = true;\n",
       "        s.onload = () => resolve(paths[lib]);\n",
       "        s.onerror = () => reject(`Error loading script: ${paths[lib]}`);\n",
       "        document.getElementsByTagName(\"head\")[0].appendChild(s);\n",
       "      });\n",
       "    }\n",
       "\n",
       "    function showError(err) {\n",
       "      outputDiv.innerHTML = `<div class=\"error\" style=\"color:red;\">${err}</div>`;\n",
       "      throw err;\n",
       "    }\n",
       "\n",
       "    function displayChart(vegaEmbed) {\n",
       "      vegaEmbed(outputDiv, spec, embedOpt)\n",
       "        .catch(err => showError(`Javascript Error: ${err.message}<br>This usually means there's a typo in your chart specification. See the javascript console for the full traceback.`));\n",
       "    }\n",
       "\n",
       "    if(typeof define === \"function\" && define.amd) {\n",
       "      requirejs.config({paths});\n",
       "      require([\"vega-embed\"], displayChart, err => showError(`Error loading script: ${err.message}`));\n",
       "    } else if (typeof vegaEmbed === \"function\") {\n",
       "      displayChart(vegaEmbed);\n",
       "    } else {\n",
       "      loadScript(\"vega\")\n",
       "        .then(() => loadScript(\"vega-lite\"))\n",
       "        .then(() => loadScript(\"vega-embed\"))\n",
       "        .catch(showError)\n",
       "        .then(() => displayChart(vegaEmbed));\n",
       "    }\n",
       "  })({\"config\": {\"view\": {\"continuousWidth\": 400, \"continuousHeight\": 300}}, \"data\": {\"name\": \"data-5c7979d8289cc4483f1f7064a08e2d59\"}, \"mark\": \"point\", \"encoding\": {\"color\": {\"condition\": {\"type\": \"nominal\", \"field\": \"Origin\", \"selection\": \"selector003\"}, \"value\": \"lightgray\"}, \"x\": {\"type\": \"quantitative\", \"field\": \"Probability\"}, \"y\": {\"type\": \"quantitative\", \"field\": \"Count\"}}, \"selection\": {\"selector003\": {\"type\": \"interval\"}}, \"$schema\": \"https://vega.github.io/schema/vega-lite/v4.8.1.json\", \"datasets\": {\"data-5c7979d8289cc4483f1f7064a08e2d59\": [{\"Name\": \"James\", \"Gender\": \"M\", \"Count\": 5304407, \"Probability\": 0.01452}, {\"Name\": \"John\", \"Gender\": \"M\", \"Count\": 5260831, \"Probability\": 0.0144}, {\"Name\": \"Robert\", \"Gender\": \"M\", \"Count\": 4970386, \"Probability\": 0.0136}, {\"Name\": \"Michael\", \"Gender\": \"M\", \"Count\": 4579950, \"Probability\": 0.01253}, {\"Name\": \"William\", \"Gender\": \"M\", \"Count\": 4226608, \"Probability\": 0.01157}, {\"Name\": \"Mary\", \"Gender\": \"F\", \"Count\": 4169663, \"Probability\": 0.01141}, {\"Name\": \"David\", \"Gender\": \"M\", \"Count\": 3787547, \"Probability\": 0.01037}, {\"Name\": \"Joseph\", \"Gender\": \"M\", \"Count\": 2695970, \"Probability\": 0.00738}, {\"Name\": \"Richard\", \"Gender\": \"M\", \"Count\": 2638187, \"Probability\": 0.00722}, {\"Name\": \"Charles\", \"Gender\": \"M\", \"Count\": 2433540, \"Probability\": 0.00666}, {\"Name\": \"Thomas\", \"Gender\": \"M\", \"Count\": 2381034, \"Probability\": 0.00652}, {\"Name\": \"Christopher\", \"Gender\": \"M\", \"Count\": 2196198, \"Probability\": 0.00601}, {\"Name\": \"Daniel\", \"Gender\": \"M\", \"Count\": 2039641, \"Probability\": 0.00558}, {\"Name\": \"Matthew\", \"Gender\": \"M\", \"Count\": 1738699, \"Probability\": 0.00476}, {\"Name\": \"Elizabeth\", \"Gender\": \"F\", \"Count\": 1704140, \"Probability\": 0.00466}, {\"Name\": \"Patricia\", \"Gender\": \"F\", \"Count\": 1608260, \"Probability\": 0.0044}, {\"Name\": \"Jennifer\", \"Gender\": \"F\", \"Count\": 1584426, \"Probability\": 0.00434}, {\"Name\": \"Anthony\", \"Gender\": \"M\", \"Count\": 1506437, \"Probability\": 0.00412}, {\"Name\": \"George\", \"Gender\": \"M\", \"Count\": 1495736, \"Probability\": 0.00409}, {\"Name\": \"Linda\", \"Gender\": \"F\", \"Count\": 1480592, \"Probability\": 0.00405}, {\"Name\": \"Barbara\", \"Gender\": \"F\", \"Count\": 1459870, \"Probability\": 0.004}, {\"Name\": \"Donald\", \"Gender\": \"M\", \"Count\": 1447641, \"Probability\": 0.00396}, {\"Name\": \"Paul\", \"Gender\": \"M\", \"Count\": 1437346, \"Probability\": 0.00393}, {\"Name\": \"Mark\", \"Gender\": \"M\", \"Count\": 1410637, \"Probability\": 0.00386}, {\"Name\": \"Andrew\", \"Gender\": \"M\", \"Count\": 1394274, \"Probability\": 0.00382}, {\"Name\": \"Steven\", \"Gender\": \"M\", \"Count\": 1347137, \"Probability\": 0.00369}, {\"Name\": \"Kenneth\", \"Gender\": \"M\", \"Count\": 1321790, \"Probability\": 0.00362}, {\"Name\": \"Edward\", \"Gender\": \"M\", \"Count\": 1319807, \"Probability\": 0.00361}, {\"Name\": \"Joshua\", \"Gender\": \"M\", \"Count\": 1316998, \"Probability\": 0.0036}, {\"Name\": \"Margaret\", \"Gender\": \"F\", \"Count\": 1280255, \"Probability\": 0.0035}, {\"Name\": \"Brian\", \"Gender\": \"M\", \"Count\": 1239444, \"Probability\": 0.00339}, {\"Name\": \"Kevin\", \"Gender\": \"M\", \"Count\": 1237204, \"Probability\": 0.00339}, {\"Name\": \"Jessica\", \"Gender\": \"F\", \"Count\": 1173979, \"Probability\": 0.00321}, {\"Name\": \"Sarah\", \"Gender\": \"F\", \"Count\": 1162143, \"Probability\": 0.00318}, {\"Name\": \"Susan\", \"Gender\": \"F\", \"Count\": 1154677, \"Probability\": 0.00316}, {\"Name\": \"Timothy\", \"Gender\": \"M\", \"Count\": 1122610, \"Probability\": 0.00307}, {\"Name\": \"Dorothy\", \"Gender\": \"F\", \"Count\": 1118450, \"Probability\": 0.00306}, {\"Name\": \"Jason\", \"Gender\": \"M\", \"Count\": 1112091, \"Probability\": 0.00304}, {\"Name\": \"Ronald\", \"Gender\": \"M\", \"Count\": 1111459, \"Probability\": 0.00304}, {\"Name\": \"Helen\", \"Gender\": \"F\", \"Count\": 1033566, \"Probability\": 0.00283}, {\"Name\": \"Ryan\", \"Gender\": \"M\", \"Count\": 1026185, \"Probability\": 0.00281}, {\"Name\": \"Jeffrey\", \"Gender\": \"M\", \"Count\": 1020570, \"Probability\": 0.00279}, {\"Name\": \"Karen\", \"Gender\": \"F\", \"Count\": 1018083, \"Probability\": 0.00279}, {\"Name\": \"Nancy\", \"Gender\": \"F\", \"Count\": 1016057, \"Probability\": 0.00278}, {\"Name\": \"Betty\", \"Gender\": \"F\", \"Count\": 1005188, \"Probability\": 0.00275}, {\"Name\": \"Lisa\", \"Gender\": \"F\", \"Count\": 1005108, \"Probability\": 0.00275}, {\"Name\": \"Jacob\", \"Gender\": \"M\", \"Count\": 975297, \"Probability\": 0.00267}, {\"Name\": \"Nicholas\", \"Gender\": \"M\", \"Count\": 968611, \"Probability\": 0.00265}, {\"Name\": \"Ashley\", \"Gender\": \"F\", \"Count\": 957384, \"Probability\": 0.00262}, {\"Name\": \"Eric\", \"Gender\": \"M\", \"Count\": 932323, \"Probability\": 0.00255}, {\"Name\": \"Frank\", \"Gender\": \"M\", \"Count\": 924751, \"Probability\": 0.00253}, {\"Name\": \"Gary\", \"Gender\": \"M\", \"Count\": 924718, \"Probability\": 0.00253}, {\"Name\": \"Anna\", \"Gender\": \"F\", \"Count\": 916075, \"Probability\": 0.00251}, {\"Name\": \"Stephen\", \"Gender\": \"M\", \"Count\": 906367, \"Probability\": 0.00248}, {\"Name\": \"Jonathan\", \"Gender\": \"M\", \"Count\": 901897, \"Probability\": 0.00247}, {\"Name\": \"Sandra\", \"Gender\": \"F\", \"Count\": 901623, \"Probability\": 0.00247}, {\"Name\": \"Emily\", \"Gender\": \"F\", \"Count\": 899883, \"Probability\": 0.00246}, {\"Name\": \"Amanda\", \"Gender\": \"F\", \"Count\": 886371, \"Probability\": 0.00243}, {\"Name\": \"Kimberly\", \"Gender\": \"F\", \"Count\": 874977, \"Probability\": 0.00239}, {\"Name\": \"Michelle\", \"Gender\": \"F\", \"Count\": 862683, \"Probability\": 0.00236}, {\"Name\": \"Donna\", \"Gender\": \"F\", \"Count\": 849167, \"Probability\": 0.00232}, {\"Name\": \"Justin\", \"Gender\": \"M\", \"Count\": 846720, \"Probability\": 0.00232}, {\"Name\": \"Laura\", \"Gender\": \"F\", \"Count\": 842865, \"Probability\": 0.00231}, {\"Name\": \"Ruth\", \"Gender\": \"F\", \"Count\": 832959, \"Probability\": 0.00228}, {\"Name\": \"Carol\", \"Gender\": \"F\", \"Count\": 831393, \"Probability\": 0.00228}, {\"Name\": \"Brandon\", \"Gender\": \"M\", \"Count\": 828500, \"Probability\": 0.00227}, {\"Name\": \"Larry\", \"Gender\": \"M\", \"Count\": 818093, \"Probability\": 0.00224}, {\"Name\": \"Scott\", \"Gender\": \"M\", \"Count\": 811733, \"Probability\": 0.00222}, {\"Name\": \"Melissa\", \"Gender\": \"F\", \"Count\": 808067, \"Probability\": 0.00221}, {\"Name\": \"Stephanie\", \"Gender\": \"F\", \"Count\": 802059, \"Probability\": 0.0022}, {\"Name\": \"Benjamin\", \"Gender\": \"M\", \"Count\": 800321, \"Probability\": 0.00219}, {\"Name\": \"Raymond\", \"Gender\": \"M\", \"Count\": 795468, \"Probability\": 0.00218}, {\"Name\": \"Samuel\", \"Gender\": \"M\", \"Count\": 791052, \"Probability\": 0.00216}, {\"Name\": \"Rebecca\", \"Gender\": \"F\", \"Count\": 788998, \"Probability\": 0.00216}, {\"Name\": \"Deborah\", \"Gender\": \"F\", \"Count\": 757908, \"Probability\": 0.00207}, {\"Name\": \"Gregory\", \"Gender\": \"M\", \"Count\": 746456, \"Probability\": 0.00204}, {\"Name\": \"Sharon\", \"Gender\": \"F\", \"Count\": 742904, \"Probability\": 0.00203}, {\"Name\": \"Kathleen\", \"Gender\": \"F\", \"Count\": 736220, \"Probability\": 0.00201}, {\"Name\": \"Amy\", \"Gender\": \"F\", \"Count\": 731739, \"Probability\": 0.002}, {\"Name\": \"Cynthia\", \"Gender\": \"F\", \"Count\": 723943, \"Probability\": 0.00198}, {\"Name\": \"Alexander\", \"Gender\": \"M\", \"Count\": 716159, \"Probability\": 0.00196}, {\"Name\": \"Patrick\", \"Gender\": \"M\", \"Count\": 713972, \"Probability\": 0.00195}, {\"Name\": \"Jack\", \"Gender\": \"M\", \"Count\": 711970, \"Probability\": 0.00195}, {\"Name\": \"Henry\", \"Gender\": \"M\", \"Count\": 702836, \"Probability\": 0.00192}, {\"Name\": \"Angela\", \"Gender\": \"F\", \"Count\": 699210, \"Probability\": 0.00191}, {\"Name\": \"Shirley\", \"Gender\": \"F\", \"Count\": 698062, \"Probability\": 0.00191}, {\"Name\": \"Emma\", \"Gender\": \"F\", \"Count\": 693904, \"Probability\": 0.0019}, {\"Name\": \"Catherine\", \"Gender\": \"F\", \"Count\": 686347, \"Probability\": 0.00188}, {\"Name\": \"Katherine\", \"Gender\": \"F\", \"Count\": 671534, \"Probability\": 0.00184}, {\"Name\": \"Virginia\", \"Gender\": \"F\", \"Count\": 654643, \"Probability\": 0.00179}, {\"Name\": \"Nicole\", \"Gender\": \"F\", \"Count\": 653738, \"Probability\": 0.00179}, {\"Name\": \"Dennis\", \"Gender\": \"M\", \"Count\": 634888, \"Probability\": 0.00174}, {\"Name\": \"Walter\", \"Gender\": \"M\", \"Count\": 631880, \"Probability\": 0.00173}, {\"Name\": \"Tyler\", \"Gender\": \"M\", \"Count\": 627809, \"Probability\": 0.00172}, {\"Name\": \"Peter\", \"Gender\": \"M\", \"Count\": 624703, \"Probability\": 0.00171}, {\"Name\": \"Brenda\", \"Gender\": \"F\", \"Count\": 623319, \"Probability\": 0.00171}, {\"Name\": \"Aaron\", \"Gender\": \"M\", \"Count\": 623260, \"Probability\": 0.00171}, {\"Name\": \"Jerry\", \"Gender\": \"M\", \"Count\": 619534, \"Probability\": 0.0017}, {\"Name\": \"Christine\", \"Gender\": \"F\", \"Count\": 618510, \"Probability\": 0.00169}, {\"Name\": \"Samantha\", \"Gender\": \"F\", \"Count\": 614650, \"Probability\": 0.00168}, {\"Name\": \"Adam\", \"Gender\": \"M\", \"Count\": 613090, \"Probability\": 0.00168}, {\"Name\": \"Rachel\", \"Gender\": \"F\", \"Count\": 608929, \"Probability\": 0.00167}, {\"Name\": \"Pamela\", \"Gender\": \"F\", \"Count\": 608542, \"Probability\": 0.00167}, {\"Name\": \"Frances\", \"Gender\": \"F\", \"Count\": 597703, \"Probability\": 0.00164}, {\"Name\": \"Nathan\", \"Gender\": \"M\", \"Count\": 588399, \"Probability\": 0.00161}, {\"Name\": \"Douglas\", \"Gender\": \"M\", \"Count\": 587147, \"Probability\": 0.00161}, {\"Name\": \"Heather\", \"Gender\": \"F\", \"Count\": 584816, \"Probability\": 0.0016}, {\"Name\": \"Evelyn\", \"Gender\": \"F\", \"Count\": 583016, \"Probability\": 0.0016}, {\"Name\": \"Jose\", \"Gender\": \"M\", \"Count\": 582242, \"Probability\": 0.00159}, {\"Name\": \"Alice\", \"Gender\": \"F\", \"Count\": 571812, \"Probability\": 0.00156}, {\"Name\": \"Janet\", \"Gender\": \"F\", \"Count\": 569909, \"Probability\": 0.00156}, {\"Name\": \"Maria\", \"Gender\": \"F\", \"Count\": 567973, \"Probability\": 0.00155}, {\"Name\": \"Zachary\", \"Gender\": \"M\", \"Count\": 567305, \"Probability\": 0.00155}, {\"Name\": \"Carolyn\", \"Gender\": \"F\", \"Count\": 565635, \"Probability\": 0.00155}, {\"Name\": \"Debra\", \"Gender\": \"F\", \"Count\": 562674, \"Probability\": 0.00154}, {\"Name\": \"Harold\", \"Gender\": \"M\", \"Count\": 556704, \"Probability\": 0.00152}, {\"Name\": \"Martha\", \"Gender\": \"F\", \"Count\": 552497, \"Probability\": 0.00151}, {\"Name\": \"Marie\", \"Gender\": \"F\", \"Count\": 548785, \"Probability\": 0.0015}, {\"Name\": \"Arthur\", \"Gender\": \"M\", \"Count\": 540307, \"Probability\": 0.00148}, {\"Name\": \"Julie\", \"Gender\": \"F\", \"Count\": 532960, \"Probability\": 0.00146}, {\"Name\": \"Kyle\", \"Gender\": \"M\", \"Count\": 532546, \"Probability\": 0.00146}, {\"Name\": \"Diane\", \"Gender\": \"F\", \"Count\": 530707, \"Probability\": 0.00145}, {\"Name\": \"Christina\", \"Gender\": \"F\", \"Count\": 519041, \"Probability\": 0.00142}, {\"Name\": \"Victoria\", \"Gender\": \"F\", \"Count\": 514307, \"Probability\": 0.00141}, {\"Name\": \"Joyce\", \"Gender\": \"F\", \"Count\": 513332, \"Probability\": 0.0014}, {\"Name\": \"Carl\", \"Gender\": \"M\", \"Count\": 511826, \"Probability\": 0.0014}, {\"Name\": \"Lauren\", \"Gender\": \"F\", \"Count\": 511468, \"Probability\": 0.0014}, {\"Name\": \"Grace\", \"Gender\": \"F\", \"Count\": 509446, \"Probability\": 0.00139}, {\"Name\": \"Kelly\", \"Gender\": \"F\", \"Count\": 505014, \"Probability\": 0.00138}, {\"Name\": \"Albert\", \"Gender\": \"M\", \"Count\": 497184, \"Probability\": 0.00136}, {\"Name\": \"Rose\", \"Gender\": \"F\", \"Count\": 489578, \"Probability\": 0.00134}, {\"Name\": \"Megan\", \"Gender\": \"F\", \"Count\": 489524, \"Probability\": 0.00134}, {\"Name\": \"Joan\", \"Gender\": \"F\", \"Count\": 489178, \"Probability\": 0.00134}, {\"Name\": \"Jeremy\", \"Gender\": \"M\", \"Count\": 476599, \"Probability\": 0.0013}, {\"Name\": \"Ann\", \"Gender\": \"F\", \"Count\": 476259, \"Probability\": 0.0013}, {\"Name\": \"Julia\", \"Gender\": \"F\", \"Count\": 474896, \"Probability\": 0.0013}, {\"Name\": \"Kathryn\", \"Gender\": \"F\", \"Count\": 474269, \"Probability\": 0.0013}, {\"Name\": \"Lawrence\", \"Gender\": \"M\", \"Count\": 469128, \"Probability\": 0.00128}, {\"Name\": \"Olivia\", \"Gender\": \"F\", \"Count\": 468892, \"Probability\": 0.00128}, {\"Name\": \"Judith\", \"Gender\": \"F\", \"Count\": 466109, \"Probability\": 0.00128}, {\"Name\": \"Doris\", \"Gender\": \"F\", \"Count\": 465461, \"Probability\": 0.00127}, {\"Name\": \"Jean\", \"Gender\": \"F\", \"Count\": 464229, \"Probability\": 0.00127}, {\"Name\": \"Andrea\", \"Gender\": \"F\", \"Count\": 463819, \"Probability\": 0.00127}, {\"Name\": \"Gerald\", \"Gender\": \"M\", \"Count\": 459573, \"Probability\": 0.00126}, {\"Name\": \"Sean\", \"Gender\": \"M\", \"Count\": 456056, \"Probability\": 0.00125}, {\"Name\": \"Joe\", \"Gender\": \"M\", \"Count\": 454987, \"Probability\": 0.00125}, {\"Name\": \"Keith\", \"Gender\": \"M\", \"Count\": 454311, \"Probability\": 0.00124}, {\"Name\": \"Sara\", \"Gender\": \"F\", \"Count\": 453924, \"Probability\": 0.00124}, {\"Name\": \"Cheryl\", \"Gender\": \"F\", \"Count\": 453366, \"Probability\": 0.00124}, {\"Name\": \"Hannah\", \"Gender\": \"F\", \"Count\": 452249, \"Probability\": 0.00124}, {\"Name\": \"Mildred\", \"Gender\": \"F\", \"Count\": 452211, \"Probability\": 0.00124}, {\"Name\": \"Willie\", \"Gender\": \"M\", \"Count\": 452027, \"Probability\": 0.00124}, {\"Name\": \"Lillian\", \"Gender\": \"F\", \"Count\": 450001, \"Probability\": 0.00123}, {\"Name\": \"Roger\", \"Gender\": \"M\", \"Count\": 449323, \"Probability\": 0.00123}, {\"Name\": \"Jesse\", \"Gender\": \"M\", \"Count\": 446751, \"Probability\": 0.00122}, {\"Name\": \"Jacqueline\", \"Gender\": \"F\", \"Count\": 442645, \"Probability\": 0.00121}, {\"Name\": \"Ethan\", \"Gender\": \"M\", \"Count\": 440943, \"Probability\": 0.00121}, {\"Name\": \"Terry\", \"Gender\": \"M\", \"Count\": 434103, \"Probability\": 0.00119}, {\"Name\": \"Christian\", \"Gender\": \"M\", \"Count\": 432774, \"Probability\": 0.00118}, {\"Name\": \"Harry\", \"Gender\": \"M\", \"Count\": 428640, \"Probability\": 0.00117}, {\"Name\": \"Teresa\", \"Gender\": \"F\", \"Count\": 427017, \"Probability\": 0.00117}, {\"Name\": \"Austin\", \"Gender\": \"M\", \"Count\": 426133, \"Probability\": 0.00117}, {\"Name\": \"Gloria\", \"Gender\": \"F\", \"Count\": 419045, \"Probability\": 0.00115}, {\"Name\": \"Ralph\", \"Gender\": \"M\", \"Count\": 417786, \"Probability\": 0.00114}, {\"Name\": \"Janice\", \"Gender\": \"F\", \"Count\": 416428, \"Probability\": 0.00114}, {\"Name\": \"Roy\", \"Gender\": \"M\", \"Count\": 413772, \"Probability\": 0.00113}, {\"Name\": \"Theresa\", \"Gender\": \"F\", \"Count\": 412817, \"Probability\": 0.00113}, {\"Name\": \"Amber\", \"Gender\": \"F\", \"Count\": 411042, \"Probability\": 0.00112}, {\"Name\": \"Danielle\", \"Gender\": \"F\", \"Count\": 408784, \"Probability\": 0.00112}, {\"Name\": \"Noah\", \"Gender\": \"M\", \"Count\": 406062, \"Probability\": 0.00111}, {\"Name\": \"Bryan\", \"Gender\": \"M\", \"Count\": 405573, \"Probability\": 0.00111}, {\"Name\": \"Jordan\", \"Gender\": \"M\", \"Count\": 405211, \"Probability\": 0.00111}, {\"Name\": \"Louis\", \"Gender\": \"M\", \"Count\": 402583, \"Probability\": 0.0011}, {\"Name\": \"Brittany\", \"Gender\": \"F\", \"Count\": 400503, \"Probability\": 0.0011}, {\"Name\": \"Bruce\", \"Gender\": \"M\", \"Count\": 397629, \"Probability\": 0.00109}, {\"Name\": \"Madison\", \"Gender\": \"F\", \"Count\": 390237, \"Probability\": 0.00107}, {\"Name\": \"Judy\", \"Gender\": \"F\", \"Count\": 387362, \"Probability\": 0.00106}, {\"Name\": \"Billy\", \"Gender\": \"M\", \"Count\": 387105, \"Probability\": 0.00106}, {\"Name\": \"Dylan\", \"Gender\": \"M\", \"Count\": 386496, \"Probability\": 0.00106}, {\"Name\": \"Denise\", \"Gender\": \"F\", \"Count\": 384420, \"Probability\": 0.00105}, {\"Name\": \"Beverly\", \"Gender\": \"F\", \"Count\": 383574, \"Probability\": 0.00105}, {\"Name\": \"Eugene\", \"Gender\": \"M\", \"Count\": 382946, \"Probability\": 0.00105}, {\"Name\": \"Jane\", \"Gender\": \"F\", \"Count\": 379650, \"Probability\": 0.00104}, {\"Name\": \"Marilyn\", \"Gender\": \"F\", \"Count\": 379650, \"Probability\": 0.00104}, {\"Name\": \"Abigail\", \"Gender\": \"F\", \"Count\": 376102, \"Probability\": 0.00103}, {\"Name\": \"Diana\", \"Gender\": \"F\", \"Count\": 373821, \"Probability\": 0.00102}, {\"Name\": \"Charlotte\", \"Gender\": \"F\", \"Count\": 373216, \"Probability\": 0.00102}, {\"Name\": \"Natalie\", \"Gender\": \"F\", \"Count\": 373128, \"Probability\": 0.00102}, {\"Name\": \"Tiffany\", \"Gender\": \"F\", \"Count\": 369806, \"Probability\": 0.00101}, {\"Name\": \"Wayne\", \"Gender\": \"M\", \"Count\": 369307, \"Probability\": 0.00101}, {\"Name\": \"Russell\", \"Gender\": \"M\", \"Count\": 365975, \"Probability\": 0.001}, {\"Name\": \"Alan\", \"Gender\": \"M\", \"Count\": 364887, \"Probability\": 0.001}, {\"Name\": \"Crystal\", \"Gender\": \"F\", \"Count\": 364045, \"Probability\": 0.001}, {\"Name\": \"Sophia\", \"Gender\": \"F\", \"Count\": 361184, \"Probability\": 0.00099}, {\"Name\": \"Irene\", \"Gender\": \"F\", \"Count\": 359429, \"Probability\": 0.00098}, {\"Name\": \"Juan\", \"Gender\": \"M\", \"Count\": 357801, \"Probability\": 0.00098}, {\"Name\": \"Ruby\", \"Gender\": \"F\", \"Count\": 357535, \"Probability\": 0.00098}, {\"Name\": \"Gabriel\", \"Gender\": \"M\", \"Count\": 357532, \"Probability\": 0.00098}, {\"Name\": \"Philip\", \"Gender\": \"M\", \"Count\": 356424, \"Probability\": 0.00098}, {\"Name\": \"Annie\", \"Gender\": \"F\", \"Count\": 355337, \"Probability\": 0.00097}, {\"Name\": \"Kayla\", \"Gender\": \"F\", \"Count\": 353100, \"Probability\": 0.00097}, {\"Name\": \"Vincent\", \"Gender\": \"M\", \"Count\": 352791, \"Probability\": 0.00097}, {\"Name\": \"Lori\", \"Gender\": \"F\", \"Count\": 349991, \"Probability\": 0.00096}, {\"Name\": \"Howard\", \"Gender\": \"M\", \"Count\": 349397, \"Probability\": 0.00096}, {\"Name\": \"Alexis\", \"Gender\": \"F\", \"Count\": 348161, \"Probability\": 0.00095}, {\"Name\": \"Erin\", \"Gender\": \"F\", \"Count\": 345327, \"Probability\": 0.00095}, {\"Name\": \"Fred\", \"Gender\": \"M\", \"Count\": 345020, \"Probability\": 0.00094}, {\"Name\": \"Logan\", \"Gender\": \"M\", \"Count\": 344794, \"Probability\": 0.00094}, {\"Name\": \"Isabella\", \"Gender\": \"F\", \"Count\": 343387, \"Probability\": 0.00094}, {\"Name\": \"Tammy\", \"Gender\": \"F\", \"Count\": 340673, \"Probability\": 0.00093}, {\"Name\": \"Louise\", \"Gender\": \"F\", \"Count\": 339242, \"Probability\": 0.00093}, {\"Name\": \"Florence\", \"Gender\": \"F\", \"Count\": 338889, \"Probability\": 0.00093}, {\"Name\": \"Randy\", \"Gender\": \"M\", \"Count\": 337986, \"Probability\": 0.00092}, {\"Name\": \"Bradley\", \"Gender\": \"M\", \"Count\": 336744, \"Probability\": 0.00092}, {\"Name\": \"Kathy\", \"Gender\": \"F\", \"Count\": 336470, \"Probability\": 0.00092}, {\"Name\": \"Lois\", \"Gender\": \"F\", \"Count\": 335648, \"Probability\": 0.00092}, {\"Name\": \"Anne\", \"Gender\": \"F\", \"Count\": 333573, \"Probability\": 0.00091}, {\"Name\": \"Bonnie\", \"Gender\": \"F\", \"Count\": 332401, \"Probability\": 0.00091}, {\"Name\": \"Victor\", \"Gender\": \"M\", \"Count\": 330614, \"Probability\": 0.0009}, {\"Name\": \"Taylor\", \"Gender\": \"F\", \"Count\": 330580, \"Probability\": 0.0009}, {\"Name\": \"Travis\", \"Gender\": \"M\", \"Count\": 328502, \"Probability\": 0.0009}, {\"Name\": \"Phyllis\", \"Gender\": \"F\", \"Count\": 325658, \"Probability\": 0.00089}, {\"Name\": \"Shawn\", \"Gender\": \"M\", \"Count\": 325287, \"Probability\": 0.00089}, {\"Name\": \"Phillip\", \"Gender\": \"M\", \"Count\": 322731, \"Probability\": 0.00088}, {\"Name\": \"Shannon\", \"Gender\": \"F\", \"Count\": 321264, \"Probability\": 0.00088}, {\"Name\": \"Martin\", \"Gender\": \"M\", \"Count\": 319665, \"Probability\": 0.00087}, {\"Name\": \"Johnny\", \"Gender\": \"M\", \"Count\": 318870, \"Probability\": 0.00087}, {\"Name\": \"Craig\", \"Gender\": \"M\", \"Count\": 318864, \"Probability\": 0.00087}, {\"Name\": \"Allison\", \"Gender\": \"F\", \"Count\": 318564, \"Probability\": 0.00087}, {\"Name\": \"Bobby\", \"Gender\": \"M\", \"Count\": 318251, \"Probability\": 0.00087}, {\"Name\": \"Alyssa\", \"Gender\": \"F\", \"Count\": 318123, \"Probability\": 0.00087}, {\"Name\": \"Ella\", \"Gender\": \"F\", \"Count\": 312855, \"Probability\": 0.00086}, {\"Name\": \"Josephine\", \"Gender\": \"F\", \"Count\": 312080, \"Probability\": 0.00085}, {\"Name\": \"Ernest\", \"Gender\": \"M\", \"Count\": 307247, \"Probability\": 0.00084}, {\"Name\": \"Stanley\", \"Gender\": \"M\", \"Count\": 306812, \"Probability\": 0.00084}, {\"Name\": \"Cody\", \"Gender\": \"M\", \"Count\": 306357, \"Probability\": 0.00084}, {\"Name\": \"Clarence\", \"Gender\": \"M\", \"Count\": 305503, \"Probability\": 0.00084}]}}, {\"mode\": \"vega-lite\"});\n",
       "</script>"
      ],
      "text/plain": [
       "alt.Chart(...)"
      ]
     },
     "execution_count": 62,
     "metadata": {},
     "output_type": "execute_result"
    }
   ],
   "source": [
    "points = alt.Chart(data).mark_point().encode(\n",
    "    x='Probability:Q',\n",
    "    y='Count:Q',\n",
    "    color=alt.condition(brush, 'Origin:N', alt.value('lightgray'))\n",
    ").add_selection(\n",
    "    brush\n",
    ")\n",
    "\n",
    "points"
   ]
  },
  {
   "cell_type": "code",
   "execution_count": 53,
   "metadata": {},
   "outputs": [
    {
     "data": {
      "text/html": [
       "\n",
       "<div id=\"altair-viz-b2a38f6f0f434326b019289ee7559916\"></div>\n",
       "<script type=\"text/javascript\">\n",
       "  (function(spec, embedOpt){\n",
       "    let outputDiv = document.currentScript.previousElementSibling;\n",
       "    if (outputDiv.id !== \"altair-viz-b2a38f6f0f434326b019289ee7559916\") {\n",
       "      outputDiv = document.getElementById(\"altair-viz-b2a38f6f0f434326b019289ee7559916\");\n",
       "    }\n",
       "    const paths = {\n",
       "      \"vega\": \"https://cdn.jsdelivr.net/npm//vega@5?noext\",\n",
       "      \"vega-lib\": \"https://cdn.jsdelivr.net/npm//vega-lib?noext\",\n",
       "      \"vega-lite\": \"https://cdn.jsdelivr.net/npm//vega-lite@4.8.1?noext\",\n",
       "      \"vega-embed\": \"https://cdn.jsdelivr.net/npm//vega-embed@6?noext\",\n",
       "    };\n",
       "\n",
       "    function loadScript(lib) {\n",
       "      return new Promise(function(resolve, reject) {\n",
       "        var s = document.createElement('script');\n",
       "        s.src = paths[lib];\n",
       "        s.async = true;\n",
       "        s.onload = () => resolve(paths[lib]);\n",
       "        s.onerror = () => reject(`Error loading script: ${paths[lib]}`);\n",
       "        document.getElementsByTagName(\"head\")[0].appendChild(s);\n",
       "      });\n",
       "    }\n",
       "\n",
       "    function showError(err) {\n",
       "      outputDiv.innerHTML = `<div class=\"error\" style=\"color:red;\">${err}</div>`;\n",
       "      throw err;\n",
       "    }\n",
       "\n",
       "    function displayChart(vegaEmbed) {\n",
       "      vegaEmbed(outputDiv, spec, embedOpt)\n",
       "        .catch(err => showError(`Javascript Error: ${err.message}<br>This usually means there's a typo in your chart specification. See the javascript console for the full traceback.`));\n",
       "    }\n",
       "\n",
       "    if(typeof define === \"function\" && define.amd) {\n",
       "      requirejs.config({paths});\n",
       "      require([\"vega-embed\"], displayChart, err => showError(`Error loading script: ${err.message}`));\n",
       "    } else if (typeof vegaEmbed === \"function\") {\n",
       "      displayChart(vegaEmbed);\n",
       "    } else {\n",
       "      loadScript(\"vega\")\n",
       "        .then(() => loadScript(\"vega-lite\"))\n",
       "        .then(() => loadScript(\"vega-embed\"))\n",
       "        .catch(showError)\n",
       "        .then(() => displayChart(vegaEmbed));\n",
       "    }\n",
       "  })({\"config\": {\"view\": {\"continuousWidth\": 400, \"continuousHeight\": 300}}, \"data\": {\"name\": \"data-a16134f853a7249aafece7b539779871\"}, \"mark\": \"bar\", \"encoding\": {\"color\": {\"type\": \"nominal\", \"field\": \"type\"}, \"x\": {\"type\": \"ordinal\", \"field\": \"Gender\"}, \"y\": {\"type\": \"quantitative\", \"field\": \"Probability\"}}, \"$schema\": \"https://vega.github.io/schema/vega-lite/v4.8.1.json\", \"datasets\": {\"data-a16134f853a7249aafece7b539779871\": [{\"Name\": \"James\", \"Gender\": \"M\", \"Count\": 5304407, \"Probability\": 0.01452}, {\"Name\": \"John\", \"Gender\": \"M\", \"Count\": 5260831, \"Probability\": 0.0144}, {\"Name\": \"Robert\", \"Gender\": \"M\", \"Count\": 4970386, \"Probability\": 0.0136}, {\"Name\": \"Michael\", \"Gender\": \"M\", \"Count\": 4579950, \"Probability\": 0.01253}, {\"Name\": \"William\", \"Gender\": \"M\", \"Count\": 4226608, \"Probability\": 0.01157}, {\"Name\": \"Mary\", \"Gender\": \"F\", \"Count\": 4169663, \"Probability\": 0.01141}, {\"Name\": \"David\", \"Gender\": \"M\", \"Count\": 3787547, \"Probability\": 0.01037}, {\"Name\": \"Joseph\", \"Gender\": \"M\", \"Count\": 2695970, \"Probability\": 0.007378}, {\"Name\": \"Richard\", \"Gender\": \"M\", \"Count\": 2638187, \"Probability\": 0.00722}, {\"Name\": \"Charles\", \"Gender\": \"M\", \"Count\": 2433540, \"Probability\": 0.00666}, {\"Name\": \"Thomas\", \"Gender\": \"M\", \"Count\": 2381034, \"Probability\": 0.006516}, {\"Name\": \"Christopher\", \"Gender\": \"M\", \"Count\": 2196198, \"Probability\": 0.00601}, {\"Name\": \"Daniel\", \"Gender\": \"M\", \"Count\": 2039641, \"Probability\": 0.005582}, {\"Name\": \"Matthew\", \"Gender\": \"M\", \"Count\": 1738699, \"Probability\": 0.004758}, {\"Name\": \"Elizabeth\", \"Gender\": \"F\", \"Count\": 1704140, \"Probability\": 0.004664}, {\"Name\": \"Patricia\", \"Gender\": \"F\", \"Count\": 1608260, \"Probability\": 0.004401}, {\"Name\": \"Jennifer\", \"Gender\": \"F\", \"Count\": 1584426, \"Probability\": 0.004336}, {\"Name\": \"Anthony\", \"Gender\": \"M\", \"Count\": 1506437, \"Probability\": 0.004123}, {\"Name\": \"George\", \"Gender\": \"M\", \"Count\": 1495736, \"Probability\": 0.004093}, {\"Name\": \"Linda\", \"Gender\": \"F\", \"Count\": 1480592, \"Probability\": 0.004052}, {\"Name\": \"Barbara\", \"Gender\": \"F\", \"Count\": 1459870, \"Probability\": 0.003995}, {\"Name\": \"Donald\", \"Gender\": \"M\", \"Count\": 1447641, \"Probability\": 0.003962}, {\"Name\": \"Paul\", \"Gender\": \"M\", \"Count\": 1437346, \"Probability\": 0.003934}, {\"Name\": \"Mark\", \"Gender\": \"M\", \"Count\": 1410637, \"Probability\": 0.003861}, {\"Name\": \"Andrew\", \"Gender\": \"M\", \"Count\": 1394274, \"Probability\": 0.003816}, {\"Name\": \"Steven\", \"Gender\": \"M\", \"Count\": 1347137, \"Probability\": 0.003687}, {\"Name\": \"Kenneth\", \"Gender\": \"M\", \"Count\": 1321790, \"Probability\": 0.003617}, {\"Name\": \"Edward\", \"Gender\": \"M\", \"Count\": 1319807, \"Probability\": 0.003612}, {\"Name\": \"Joshua\", \"Gender\": \"M\", \"Count\": 1316998, \"Probability\": 0.003604}, {\"Name\": \"Margaret\", \"Gender\": \"F\", \"Count\": 1280255, \"Probability\": 0.003504}, {\"Name\": \"Brian\", \"Gender\": \"M\", \"Count\": 1239444, \"Probability\": 0.003392}, {\"Name\": \"Kevin\", \"Gender\": \"M\", \"Count\": 1237204, \"Probability\": 0.003386}, {\"Name\": \"Jessica\", \"Gender\": \"F\", \"Count\": 1173979, \"Probability\": 0.003213}, {\"Name\": \"Sarah\", \"Gender\": \"F\", \"Count\": 1162143, \"Probability\": 0.00318}, {\"Name\": \"Susan\", \"Gender\": \"F\", \"Count\": 1154677, \"Probability\": 0.00316}, {\"Name\": \"Timothy\", \"Gender\": \"M\", \"Count\": 1122610, \"Probability\": 0.003072}, {\"Name\": \"Dorothy\", \"Gender\": \"F\", \"Count\": 1118450, \"Probability\": 0.003061}, {\"Name\": \"Jason\", \"Gender\": \"M\", \"Count\": 1112091, \"Probability\": 0.003044}, {\"Name\": \"Ronald\", \"Gender\": \"M\", \"Count\": 1111459, \"Probability\": 0.003042}, {\"Name\": \"Helen\", \"Gender\": \"F\", \"Count\": 1033566, \"Probability\": 0.002829}, {\"Name\": \"Ryan\", \"Gender\": \"M\", \"Count\": 1026185, \"Probability\": 0.002808}, {\"Name\": \"Jeffrey\", \"Gender\": \"M\", \"Count\": 1020570, \"Probability\": 0.002793}, {\"Name\": \"Karen\", \"Gender\": \"F\", \"Count\": 1018083, \"Probability\": 0.002786}, {\"Name\": \"Nancy\", \"Gender\": \"F\", \"Count\": 1016057, \"Probability\": 0.002781}, {\"Name\": \"Betty\", \"Gender\": \"F\", \"Count\": 1005188, \"Probability\": 0.002751}, {\"Name\": \"Lisa\", \"Gender\": \"F\", \"Count\": 1005108, \"Probability\": 0.002751}, {\"Name\": \"Jacob\", \"Gender\": \"M\", \"Count\": 975297, \"Probability\": 0.002669}, {\"Name\": \"Nicholas\", \"Gender\": \"M\", \"Count\": 968611, \"Probability\": 0.002651}, {\"Name\": \"Ashley\", \"Gender\": \"F\", \"Count\": 957384, \"Probability\": 0.00262}, {\"Name\": \"Eric\", \"Gender\": \"M\", \"Count\": 932323, \"Probability\": 0.002552}, {\"Name\": \"Frank\", \"Gender\": \"M\", \"Count\": 924751, \"Probability\": 0.002531}, {\"Name\": \"Gary\", \"Gender\": \"M\", \"Count\": 924718, \"Probability\": 0.002531}, {\"Name\": \"Anna\", \"Gender\": \"F\", \"Count\": 916075, \"Probability\": 0.002507}, {\"Name\": \"Stephen\", \"Gender\": \"M\", \"Count\": 906367, \"Probability\": 0.00248}, {\"Name\": \"Jonathan\", \"Gender\": \"M\", \"Count\": 901897, \"Probability\": 0.002468}, {\"Name\": \"Sandra\", \"Gender\": \"F\", \"Count\": 901623, \"Probability\": 0.002468}, {\"Name\": \"Emily\", \"Gender\": \"F\", \"Count\": 899883, \"Probability\": 0.002463}, {\"Name\": \"Amanda\", \"Gender\": \"F\", \"Count\": 886371, \"Probability\": 0.002426}, {\"Name\": \"Kimberly\", \"Gender\": \"F\", \"Count\": 874977, \"Probability\": 0.002395}, {\"Name\": \"Michelle\", \"Gender\": \"F\", \"Count\": 862683, \"Probability\": 0.002361}, {\"Name\": \"Donna\", \"Gender\": \"F\", \"Count\": 849167, \"Probability\": 0.002324}, {\"Name\": \"Justin\", \"Gender\": \"M\", \"Count\": 846720, \"Probability\": 0.002317}, {\"Name\": \"Laura\", \"Gender\": \"F\", \"Count\": 842865, \"Probability\": 0.002307}, {\"Name\": \"Ruth\", \"Gender\": \"F\", \"Count\": 832959, \"Probability\": 0.00228}, {\"Name\": \"Carol\", \"Gender\": \"F\", \"Count\": 831393, \"Probability\": 0.002275}, {\"Name\": \"Brandon\", \"Gender\": \"M\", \"Count\": 828500, \"Probability\": 0.002267}, {\"Name\": \"Larry\", \"Gender\": \"M\", \"Count\": 818093, \"Probability\": 0.002239}, {\"Name\": \"Scott\", \"Gender\": \"M\", \"Count\": 811733, \"Probability\": 0.002222}, {\"Name\": \"Melissa\", \"Gender\": \"F\", \"Count\": 808067, \"Probability\": 0.002211}, {\"Name\": \"Stephanie\", \"Gender\": \"F\", \"Count\": 802059, \"Probability\": 0.002195}, {\"Name\": \"Benjamin\", \"Gender\": \"M\", \"Count\": 800321, \"Probability\": 0.00219}, {\"Name\": \"Raymond\", \"Gender\": \"M\", \"Count\": 795468, \"Probability\": 0.002177}, {\"Name\": \"Samuel\", \"Gender\": \"M\", \"Count\": 791052, \"Probability\": 0.002165}, {\"Name\": \"Rebecca\", \"Gender\": \"F\", \"Count\": 788998, \"Probability\": 0.002159}, {\"Name\": \"Deborah\", \"Gender\": \"F\", \"Count\": 757908, \"Probability\": 0.002074}, {\"Name\": \"Gregory\", \"Gender\": \"M\", \"Count\": 746456, \"Probability\": 0.002043}, {\"Name\": \"Sharon\", \"Gender\": \"F\", \"Count\": 742904, \"Probability\": 0.002033}, {\"Name\": \"Kathleen\", \"Gender\": \"F\", \"Count\": 736220, \"Probability\": 0.002015}, {\"Name\": \"Amy\", \"Gender\": \"F\", \"Count\": 731739, \"Probability\": 0.002003}, {\"Name\": \"Cynthia\", \"Gender\": \"F\", \"Count\": 723943, \"Probability\": 0.001981}, {\"Name\": \"Alexander\", \"Gender\": \"M\", \"Count\": 716159, \"Probability\": 0.00196}, {\"Name\": \"Patrick\", \"Gender\": \"M\", \"Count\": 713972, \"Probability\": 0.001954}, {\"Name\": \"Jack\", \"Gender\": \"M\", \"Count\": 711970, \"Probability\": 0.001948}, {\"Name\": \"Henry\", \"Gender\": \"M\", \"Count\": 702836, \"Probability\": 0.001923}, {\"Name\": \"Angela\", \"Gender\": \"F\", \"Count\": 699210, \"Probability\": 0.001914}, {\"Name\": \"Shirley\", \"Gender\": \"F\", \"Count\": 698062, \"Probability\": 0.00191}, {\"Name\": \"Emma\", \"Gender\": \"F\", \"Count\": 693904, \"Probability\": 0.001899}, {\"Name\": \"Catherine\", \"Gender\": \"F\", \"Count\": 686347, \"Probability\": 0.001878}, {\"Name\": \"Katherine\", \"Gender\": \"F\", \"Count\": 671534, \"Probability\": 0.001838}, {\"Name\": \"Virginia\", \"Gender\": \"F\", \"Count\": 654643, \"Probability\": 0.001792}, {\"Name\": \"Nicole\", \"Gender\": \"F\", \"Count\": 653738, \"Probability\": 0.001789}, {\"Name\": \"Dennis\", \"Gender\": \"M\", \"Count\": 634888, \"Probability\": 0.001738}, {\"Name\": \"Walter\", \"Gender\": \"M\", \"Count\": 631880, \"Probability\": 0.001729}, {\"Name\": \"Tyler\", \"Gender\": \"M\", \"Count\": 627809, \"Probability\": 0.001718}, {\"Name\": \"Peter\", \"Gender\": \"M\", \"Count\": 624703, \"Probability\": 0.00171}, {\"Name\": \"Brenda\", \"Gender\": \"F\", \"Count\": 623319, \"Probability\": 0.001706}, {\"Name\": \"Aaron\", \"Gender\": \"M\", \"Count\": 623260, \"Probability\": 0.001706}, {\"Name\": \"Jerry\", \"Gender\": \"M\", \"Count\": 619534, \"Probability\": 0.001696}, {\"Name\": \"Christine\", \"Gender\": \"F\", \"Count\": 618510, \"Probability\": 0.001693}, {\"Name\": \"Samantha\", \"Gender\": \"F\", \"Count\": 614650, \"Probability\": 0.001682}, {\"Name\": \"Adam\", \"Gender\": \"M\", \"Count\": 613090, \"Probability\": 0.001678}, {\"Name\": \"Rachel\", \"Gender\": \"F\", \"Count\": 608929, \"Probability\": 0.001666}, {\"Name\": \"Pamela\", \"Gender\": \"F\", \"Count\": 608542, \"Probability\": 0.001665}, {\"Name\": \"Frances\", \"Gender\": \"F\", \"Count\": 597703, \"Probability\": 0.001636}, {\"Name\": \"Nathan\", \"Gender\": \"M\", \"Count\": 588399, \"Probability\": 0.00161}, {\"Name\": \"Douglas\", \"Gender\": \"M\", \"Count\": 587147, \"Probability\": 0.001607}, {\"Name\": \"Heather\", \"Gender\": \"F\", \"Count\": 584816, \"Probability\": 0.0016}, {\"Name\": \"Evelyn\", \"Gender\": \"F\", \"Count\": 583016, \"Probability\": 0.001596}, {\"Name\": \"Jose\", \"Gender\": \"M\", \"Count\": 582242, \"Probability\": 0.001593}, {\"Name\": \"Alice\", \"Gender\": \"F\", \"Count\": 571812, \"Probability\": 0.001565}, {\"Name\": \"Janet\", \"Gender\": \"F\", \"Count\": 569909, \"Probability\": 0.00156}, {\"Name\": \"Maria\", \"Gender\": \"F\", \"Count\": 567973, \"Probability\": 0.001554}, {\"Name\": \"Zachary\", \"Gender\": \"M\", \"Count\": 567305, \"Probability\": 0.001553}, {\"Name\": \"Carolyn\", \"Gender\": \"F\", \"Count\": 565635, \"Probability\": 0.001548}, {\"Name\": \"Debra\", \"Gender\": \"F\", \"Count\": 562674, \"Probability\": 0.00154}, {\"Name\": \"Harold\", \"Gender\": \"M\", \"Count\": 556704, \"Probability\": 0.001524}, {\"Name\": \"Martha\", \"Gender\": \"F\", \"Count\": 552497, \"Probability\": 0.001512}, {\"Name\": \"Marie\", \"Gender\": \"F\", \"Count\": 548785, \"Probability\": 0.001502}, {\"Name\": \"Arthur\", \"Gender\": \"M\", \"Count\": 540307, \"Probability\": 0.001479}, {\"Name\": \"Julie\", \"Gender\": \"F\", \"Count\": 532960, \"Probability\": 0.001459}, {\"Name\": \"Kyle\", \"Gender\": \"M\", \"Count\": 532546, \"Probability\": 0.001457}, {\"Name\": \"Diane\", \"Gender\": \"F\", \"Count\": 530707, \"Probability\": 0.001452}, {\"Name\": \"Christina\", \"Gender\": \"F\", \"Count\": 519041, \"Probability\": 0.00142}, {\"Name\": \"Victoria\", \"Gender\": \"F\", \"Count\": 514307, \"Probability\": 0.001408}, {\"Name\": \"Joyce\", \"Gender\": \"F\", \"Count\": 513332, \"Probability\": 0.001405}, {\"Name\": \"Carl\", \"Gender\": \"M\", \"Count\": 511826, \"Probability\": 0.001401}, {\"Name\": \"Lauren\", \"Gender\": \"F\", \"Count\": 511468, \"Probability\": 0.0014}, {\"Name\": \"Grace\", \"Gender\": \"F\", \"Count\": 509446, \"Probability\": 0.001394}, {\"Name\": \"Kelly\", \"Gender\": \"F\", \"Count\": 505014, \"Probability\": 0.001382}, {\"Name\": \"Albert\", \"Gender\": \"M\", \"Count\": 497184, \"Probability\": 0.001361}, {\"Name\": \"Rose\", \"Gender\": \"F\", \"Count\": 489578, \"Probability\": 0.00134}, {\"Name\": \"Megan\", \"Gender\": \"F\", \"Count\": 489524, \"Probability\": 0.00134}, {\"Name\": \"Joan\", \"Gender\": \"F\", \"Count\": 489178, \"Probability\": 0.001339}, {\"Name\": \"Jeremy\", \"Gender\": \"M\", \"Count\": 476599, \"Probability\": 0.001304}, {\"Name\": \"Ann\", \"Gender\": \"F\", \"Count\": 476259, \"Probability\": 0.001303}, {\"Name\": \"Julia\", \"Gender\": \"F\", \"Count\": 474896, \"Probability\": 0.0013}, {\"Name\": \"Kathryn\", \"Gender\": \"F\", \"Count\": 474269, \"Probability\": 0.001298}, {\"Name\": \"Lawrence\", \"Gender\": \"M\", \"Count\": 469128, \"Probability\": 0.001284}, {\"Name\": \"Olivia\", \"Gender\": \"F\", \"Count\": 468892, \"Probability\": 0.001283}, {\"Name\": \"Judith\", \"Gender\": \"F\", \"Count\": 466109, \"Probability\": 0.001276}, {\"Name\": \"Doris\", \"Gender\": \"F\", \"Count\": 465461, \"Probability\": 0.001274}, {\"Name\": \"Jean\", \"Gender\": \"F\", \"Count\": 464229, \"Probability\": 0.00127}, {\"Name\": \"Andrea\", \"Gender\": \"F\", \"Count\": 463819, \"Probability\": 0.001269}, {\"Name\": \"Gerald\", \"Gender\": \"M\", \"Count\": 459573, \"Probability\": 0.001258}, {\"Name\": \"Sean\", \"Gender\": \"M\", \"Count\": 456056, \"Probability\": 0.001248}, {\"Name\": \"Joe\", \"Gender\": \"M\", \"Count\": 454987, \"Probability\": 0.001245}, {\"Name\": \"Keith\", \"Gender\": \"M\", \"Count\": 454311, \"Probability\": 0.001243}, {\"Name\": \"Sara\", \"Gender\": \"F\", \"Count\": 453924, \"Probability\": 0.001242}, {\"Name\": \"Cheryl\", \"Gender\": \"F\", \"Count\": 453366, \"Probability\": 0.001241}, {\"Name\": \"Hannah\", \"Gender\": \"F\", \"Count\": 452249, \"Probability\": 0.001238}, {\"Name\": \"Mildred\", \"Gender\": \"F\", \"Count\": 452211, \"Probability\": 0.001238}, {\"Name\": \"Willie\", \"Gender\": \"M\", \"Count\": 452027, \"Probability\": 0.001237}, {\"Name\": \"Lillian\", \"Gender\": \"F\", \"Count\": 450001, \"Probability\": 0.001232}, {\"Name\": \"Roger\", \"Gender\": \"M\", \"Count\": 449323, \"Probability\": 0.00123}, {\"Name\": \"Jesse\", \"Gender\": \"M\", \"Count\": 446751, \"Probability\": 0.001223}, {\"Name\": \"Jacqueline\", \"Gender\": \"F\", \"Count\": 442645, \"Probability\": 0.001211}, {\"Name\": \"Ethan\", \"Gender\": \"M\", \"Count\": 440943, \"Probability\": 0.001207}, {\"Name\": \"Terry\", \"Gender\": \"M\", \"Count\": 434103, \"Probability\": 0.001188}, {\"Name\": \"Christian\", \"Gender\": \"M\", \"Count\": 432774, \"Probability\": 0.001184}, {\"Name\": \"Harry\", \"Gender\": \"M\", \"Count\": 428640, \"Probability\": 0.001173}, {\"Name\": \"Teresa\", \"Gender\": \"F\", \"Count\": 427017, \"Probability\": 0.001169}, {\"Name\": \"Austin\", \"Gender\": \"M\", \"Count\": 426133, \"Probability\": 0.001166}, {\"Name\": \"Gloria\", \"Gender\": \"F\", \"Count\": 419045, \"Probability\": 0.001147}, {\"Name\": \"Ralph\", \"Gender\": \"M\", \"Count\": 417786, \"Probability\": 0.001143}, {\"Name\": \"Janice\", \"Gender\": \"F\", \"Count\": 416428, \"Probability\": 0.00114}, {\"Name\": \"Roy\", \"Gender\": \"M\", \"Count\": 413772, \"Probability\": 0.001132}, {\"Name\": \"Theresa\", \"Gender\": \"F\", \"Count\": 412817, \"Probability\": 0.00113}, {\"Name\": \"Amber\", \"Gender\": \"F\", \"Count\": 411042, \"Probability\": 0.001125}, {\"Name\": \"Danielle\", \"Gender\": \"F\", \"Count\": 408784, \"Probability\": 0.001119}, {\"Name\": \"Noah\", \"Gender\": \"M\", \"Count\": 406062, \"Probability\": 0.001111}, {\"Name\": \"Bryan\", \"Gender\": \"M\", \"Count\": 405573, \"Probability\": 0.00111}, {\"Name\": \"Jordan\", \"Gender\": \"M\", \"Count\": 405211, \"Probability\": 0.001109}, {\"Name\": \"Louis\", \"Gender\": \"M\", \"Count\": 402583, \"Probability\": 0.001102}, {\"Name\": \"Brittany\", \"Gender\": \"F\", \"Count\": 400503, \"Probability\": 0.001096}, {\"Name\": \"Bruce\", \"Gender\": \"M\", \"Count\": 397629, \"Probability\": 0.001088}, {\"Name\": \"Madison\", \"Gender\": \"F\", \"Count\": 390237, \"Probability\": 0.001068}, {\"Name\": \"Judy\", \"Gender\": \"F\", \"Count\": 387362, \"Probability\": 0.00106}, {\"Name\": \"Billy\", \"Gender\": \"M\", \"Count\": 387105, \"Probability\": 0.001059}, {\"Name\": \"Dylan\", \"Gender\": \"M\", \"Count\": 386496, \"Probability\": 0.001058}, {\"Name\": \"Denise\", \"Gender\": \"F\", \"Count\": 384420, \"Probability\": 0.001052}, {\"Name\": \"Beverly\", \"Gender\": \"F\", \"Count\": 383574, \"Probability\": 0.00105}, {\"Name\": \"Eugene\", \"Gender\": \"M\", \"Count\": 382946, \"Probability\": 0.001048}, {\"Name\": \"Jane\", \"Gender\": \"F\", \"Count\": 379650, \"Probability\": 0.001039}, {\"Name\": \"Marilyn\", \"Gender\": \"F\", \"Count\": 379650, \"Probability\": 0.001039}, {\"Name\": \"Abigail\", \"Gender\": \"F\", \"Count\": 376102, \"Probability\": 0.001029}, {\"Name\": \"Diana\", \"Gender\": \"F\", \"Count\": 373821, \"Probability\": 0.001023}, {\"Name\": \"Charlotte\", \"Gender\": \"F\", \"Count\": 373216, \"Probability\": 0.001021}, {\"Name\": \"Natalie\", \"Gender\": \"F\", \"Count\": 373128, \"Probability\": 0.001021}, {\"Name\": \"Tiffany\", \"Gender\": \"F\", \"Count\": 369806, \"Probability\": 0.001012}, {\"Name\": \"Wayne\", \"Gender\": \"M\", \"Count\": 369307, \"Probability\": 0.001011}, {\"Name\": \"Russell\", \"Gender\": \"M\", \"Count\": 365975, \"Probability\": 0.001002}, {\"Name\": \"Alan\", \"Gender\": \"M\", \"Count\": 364887, \"Probability\": 0.0009986}, {\"Name\": \"Crystal\", \"Gender\": \"F\", \"Count\": 364045, \"Probability\": 0.0009963}, {\"Name\": \"Sophia\", \"Gender\": \"F\", \"Count\": 361184, \"Probability\": 0.0009885}, {\"Name\": \"Irene\", \"Gender\": \"F\", \"Count\": 359429, \"Probability\": 0.0009837}, {\"Name\": \"Juan\", \"Gender\": \"M\", \"Count\": 357801, \"Probability\": 0.0009792}, {\"Name\": \"Ruby\", \"Gender\": \"F\", \"Count\": 357535, \"Probability\": 0.0009785}, {\"Name\": \"Gabriel\", \"Gender\": \"M\", \"Count\": 357532, \"Probability\": 0.0009785}, {\"Name\": \"Philip\", \"Gender\": \"M\", \"Count\": 356424, \"Probability\": 0.0009754}, {\"Name\": \"Annie\", \"Gender\": \"F\", \"Count\": 355337, \"Probability\": 0.0009725}, {\"Name\": \"Kayla\", \"Gender\": \"F\", \"Count\": 353100, \"Probability\": 0.0009663}, {\"Name\": \"Vincent\", \"Gender\": \"M\", \"Count\": 352791, \"Probability\": 0.0009655}, {\"Name\": \"Lori\", \"Gender\": \"F\", \"Count\": 349991, \"Probability\": 0.0009578}, {\"Name\": \"Howard\", \"Gender\": \"M\", \"Count\": 349397, \"Probability\": 0.0009562}, {\"Name\": \"Alexis\", \"Gender\": \"F\", \"Count\": 348161, \"Probability\": 0.0009528}, {\"Name\": \"Erin\", \"Gender\": \"F\", \"Count\": 345327, \"Probability\": 0.0009451}, {\"Name\": \"Fred\", \"Gender\": \"M\", \"Count\": 345020, \"Probability\": 0.0009442}, {\"Name\": \"Logan\", \"Gender\": \"M\", \"Count\": 344794, \"Probability\": 0.0009436}, {\"Name\": \"Isabella\", \"Gender\": \"F\", \"Count\": 343387, \"Probability\": 0.0009398}, {\"Name\": \"Tammy\", \"Gender\": \"F\", \"Count\": 340673, \"Probability\": 0.0009323}, {\"Name\": \"Louise\", \"Gender\": \"F\", \"Count\": 339242, \"Probability\": 0.0009284}, {\"Name\": \"Florence\", \"Gender\": \"F\", \"Count\": 338889, \"Probability\": 0.0009275}, {\"Name\": \"Randy\", \"Gender\": \"M\", \"Count\": 337986, \"Probability\": 0.000925}, {\"Name\": \"Bradley\", \"Gender\": \"M\", \"Count\": 336744, \"Probability\": 0.0009216}, {\"Name\": \"Kathy\", \"Gender\": \"F\", \"Count\": 336470, \"Probability\": 0.0009208}, {\"Name\": \"Lois\", \"Gender\": \"F\", \"Count\": 335648, \"Probability\": 0.0009186}, {\"Name\": \"Anne\", \"Gender\": \"F\", \"Count\": 333573, \"Probability\": 0.0009129}, {\"Name\": \"Bonnie\", \"Gender\": \"F\", \"Count\": 332401, \"Probability\": 0.0009097}, {\"Name\": \"Victor\", \"Gender\": \"M\", \"Count\": 330614, \"Probability\": 0.0009048}, {\"Name\": \"Taylor\", \"Gender\": \"F\", \"Count\": 330580, \"Probability\": 0.0009047}, {\"Name\": \"Travis\", \"Gender\": \"M\", \"Count\": 328502, \"Probability\": 0.000899}, {\"Name\": \"Phyllis\", \"Gender\": \"F\", \"Count\": 325658, \"Probability\": 0.0008912}, {\"Name\": \"Shawn\", \"Gender\": \"M\", \"Count\": 325287, \"Probability\": 0.0008902}, {\"Name\": \"Phillip\", \"Gender\": \"M\", \"Count\": 322731, \"Probability\": 0.0008832}, {\"Name\": \"Shannon\", \"Gender\": \"F\", \"Count\": 321264, \"Probability\": 0.0008792}, {\"Name\": \"Martin\", \"Gender\": \"M\", \"Count\": 319665, \"Probability\": 0.0008748}, {\"Name\": \"Johnny\", \"Gender\": \"M\", \"Count\": 318870, \"Probability\": 0.0008727}, {\"Name\": \"Craig\", \"Gender\": \"M\", \"Count\": 318864, \"Probability\": 0.0008726}, {\"Name\": \"Allison\", \"Gender\": \"F\", \"Count\": 318564, \"Probability\": 0.0008718}, {\"Name\": \"Bobby\", \"Gender\": \"M\", \"Count\": 318251, \"Probability\": 0.000871}, {\"Name\": \"Alyssa\", \"Gender\": \"F\", \"Count\": 318123, \"Probability\": 0.0008706}, {\"Name\": \"Ella\", \"Gender\": \"F\", \"Count\": 312855, \"Probability\": 0.0008562}, {\"Name\": \"Josephine\", \"Gender\": \"F\", \"Count\": 312080, \"Probability\": 0.0008541}, {\"Name\": \"Ernest\", \"Gender\": \"M\", \"Count\": 307247, \"Probability\": 0.0008409}, {\"Name\": \"Stanley\", \"Gender\": \"M\", \"Count\": 306812, \"Probability\": 0.0008397}, {\"Name\": \"Cody\", \"Gender\": \"M\", \"Count\": 306357, \"Probability\": 0.0008384}, {\"Name\": \"Clarence\", \"Gender\": \"M\", \"Count\": 305503, \"Probability\": 0.0008361}]}}, {\"mode\": \"vega-lite\"});\n",
       "</script>"
      ],
      "text/plain": [
       "alt.Chart(...)"
      ]
     },
     "execution_count": 53,
     "metadata": {},
     "output_type": "execute_result"
    }
   ],
   "source": [
    "bars = alt.Chart(data).mark_bar().encode(\n",
    "    y='Probability:Q',\n",
    "    color='type:N',\n",
    "    x='Gender:O'\n",
    ")\n",
    "\n",
    "bars"
   ]
  }
 ],
 "metadata": {
  "interpreter": {
   "hash": "ac59ebe37160ed0dfa835113d9b8498d9f09ceb179beaac4002f036b9467c963"
  },
  "kernelspec": {
   "display_name": "Python 3.9.5 64-bit",
   "language": "python",
   "name": "python3"
  },
  "language_info": {
   "codemirror_mode": {
    "name": "ipython",
    "version": 3
   },
   "file_extension": ".py",
   "mimetype": "text/x-python",
   "name": "python",
   "nbconvert_exporter": "python",
   "pygments_lexer": "ipython3",
   "version": "3.9.5"
  },
  "orig_nbformat": 4
 },
 "nbformat": 4,
 "nbformat_minor": 2
}
