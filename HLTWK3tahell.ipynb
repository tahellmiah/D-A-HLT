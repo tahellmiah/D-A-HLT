{
 "cells": [
  {
   "cell_type": "code",
   "execution_count": null,
   "metadata": {},
   "outputs": [],
   "source": [
    "text = (\"example\")\n",
    "print(text[2:5]) "
   ]
  },
  {
   "cell_type": "code",
   "execution_count": null,
   "metadata": {},
   "outputs": [],
   "source": [
    "my_file = open(\"numbers.txt\", \"w\")\n",
    "\n",
    "my_file.write(str(3, 45, 83, 21))\n",
    "\n",
    "my_file.close()"
   ]
  },
  {
   "cell_type": "code",
   "execution_count": 4,
   "metadata": {},
   "outputs": [],
   "source": [
    "def mark_grade():\n",
    "    mark_input = int(input(\"enter your percentage mark\"))\n",
    "    if mark_input <100 and mark_input >=90:\n",
    "        grade = \"A*\"\n",
    "    elif mark_input <90 and mark_input >=80:\n",
    "        grade = \"A\"\n",
    "    elif mark_input <80 and mark_input >=70:\n",
    "        grade = \"B\"\n",
    "    elif mark_input <70 and mark_input >=60:\n",
    "        grade = \"C\"\n",
    "    elif mark_input <60 and mark_input >50:\n",
    "        grade = \"D\"\n",
    "    elif mark_input <50 and mark_input >=0:\n",
    "        grade = \"U\"\n",
    "    else:\n",
    "        grade = \"Error\"\n",
    "        print(\"You have not entered a correct value.\")\n",
    "    print(\"You have achieved:\", grade)\n",
    "\n",
    "    return mark_input\n",
    "    "
   ]
  }
 ],
 "metadata": {
  "interpreter": {
   "hash": "aee8b7b246df8f9039afb4144a1f6fd8d2ca17a180786b69acc140d282b71a49"
  },
  "kernelspec": {
   "display_name": "Python 3.10.2 64-bit",
   "language": "python",
   "name": "python3"
  },
  "language_info": {
   "codemirror_mode": {
    "name": "ipython",
    "version": 3
   },
   "file_extension": ".py",
   "mimetype": "text/x-python",
   "name": "python",
   "nbconvert_exporter": "python",
   "pygments_lexer": "ipython3",
   "version": "3.10.2"
  },
  "orig_nbformat": 4
 },
 "nbformat": 4,
 "nbformat_minor": 2
}
