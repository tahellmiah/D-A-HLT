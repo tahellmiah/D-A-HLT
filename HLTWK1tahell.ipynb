{
 "cells": [
  {
   "cell_type": "code",
   "execution_count": null,
   "metadata": {},
   "outputs": [],
   "source": [
    "print(\"Hello World\")"
   ]
  },
  {
   "cell_type": "code",
   "execution_count": null,
   "metadata": {},
   "outputs": [],
   "source": [
    "import random\n",
    "random_number = random.randint(1,10)\n",
    "\n",
    "user_name = str(input('Hello, What is your name?'))\n",
    "print('Hello', user_name)\n",
    "\n",
    "print(user_name, 'I am thinking of a number between 1 and 10.')\n",
    "\n",
    "random_number1 = 5\n",
    "\n",
    "numberpicked = int(input('Guess what number I am thinking of?'))\n",
    "print('You picked', numberpicked)\n",
    "\n",
    "print('You got it correct!, well done!') if random_number1 == numberpicked else print('You got it wrong, it was not', numberpicked)\n",
    "\n"
   ]
  },
  {
   "cell_type": "code",
   "execution_count": 28,
   "metadata": {},
   "outputs": [
    {
     "name": "stdout",
     "output_type": "stream",
     "text": [
      "Why are elevator jokes so classic and good? They work on many levels.\n"
     ]
    }
   ],
   "source": [
    "number = int(input('enter your favourite number between 1 - 100'))\n",
    "\n",
    "if number > 1 and <30:\n",
    "    print(\"Why are elevator jokes so classic and good? They work on many levels.\")\n",
    "elif number >30 and <50:\n",
    "    print(\"I used to hate facial hair, but then it grew on me.\")\n",
    "else:\n",
    "    print(\"I told my doctor I heard buzzing, but he said its just a bug going around.\")"
   ]
  },
  {
   "cell_type": "code",
   "execution_count": null,
   "metadata": {},
   "outputs": [],
   "source": [
    "user_starter = str(input(\"what is your favourite starter\"))\n",
    "user_main = str(input(\"what is your favourite main\"))\n",
    "user_desert = str(input(\"what is your favourite desert\"))\n",
    "user_drink = str(input(\"what is your favourite drink\"))\n",
    "\n",
    "print(\"Your favourite meal is\", user_starter + \" as a starter, a\", user_main + \" as a main and\", user_desert + \" as your dessert. With a drink of\", user_drink)"
   ]
  },
  {
   "cell_type": "code",
   "execution_count": 30,
   "metadata": {},
   "outputs": [
    {
     "name": "stdout",
     "output_type": "stream",
     "text": [
      "The bike is worth: 2000\n",
      "The bike is worth: 1800.0\n",
      "The bike is worth: 1620.0\n",
      "The bike is worth: 1458.0\n",
      "The bike is worth: 1312.2\n",
      "The bike is worth: 1180.98\n",
      "The bike is worth: 1062.882\n"
     ]
    }
   ],
   "source": [
    "bike_value = 2000\n",
    "\n",
    "while bike_value > 1000:\n",
    "    print(\"The bike is worth:\", bike_value)\n",
    "    bike_value *= 0.90"
   ]
  },
  {
   "cell_type": "code",
   "execution_count": null,
   "metadata": {},
   "outputs": [],
   "source": [
    "number1 = int(input('enter a number'))\n",
    "number2 = int(input('enter another number'))\n",
    "operator = (input('choose an operator'))\n",
    "\n",
    "if operator == '+':\n",
    "    print(number1 + number2)\n",
    "elif operator == '-':\n",
    "    print(number1 - number2)\n",
    "elif operator == '/':\n",
    "    print(number1 / number2)\n",
    "elif operator == '*':\n",
    "    print(number1 * number2)\n",
    "elif operator == '**':\n",
    "    print(number1 ** number2)\n",
    "elif operator == '%':\n",
    "    print(number1 % number2)\n",
    "elif operator == '//':\n",
    "    print(number1 // number2)\n",
    "else:\n",
    "    print(\"An appropriate operator was not selected!\")"
   ]
  }
 ],
 "metadata": {
  "interpreter": {
   "hash": "aee8b7b246df8f9039afb4144a1f6fd8d2ca17a180786b69acc140d282b71a49"
  },
  "kernelspec": {
   "display_name": "Python 3.10.2 64-bit",
   "language": "python",
   "name": "python3"
  },
  "language_info": {
   "codemirror_mode": {
    "name": "ipython",
    "version": 3
   },
   "file_extension": ".py",
   "mimetype": "text/x-python",
   "name": "python",
   "nbconvert_exporter": "python",
   "pygments_lexer": "ipython3",
   "version": "3.10.2"
  },
  "orig_nbformat": 4
 },
 "nbformat": 4,
 "nbformat_minor": 2
}
