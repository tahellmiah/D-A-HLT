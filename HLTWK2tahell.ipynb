{
 "cells": [
  {
   "cell_type": "code",
   "execution_count": 4,
   "metadata": {},
   "outputs": [
    {
     "name": "stdout",
     "output_type": "stream",
     "text": [
      "number is smaller than 10\n"
     ]
    }
   ],
   "source": [
    "number = int(input(\"Enter a number greater than 10: \"))\n",
    "\n",
    "if number > 10:\n",
    "    print(\"number is greater than 10\")\n",
    "else:\n",
    "    print(\"number is smaller than 10\")"
   ]
  },
  {
   "cell_type": "code",
   "execution_count": 3,
   "metadata": {},
   "outputs": [],
   "source": [
    "def year_value_reduction(year, price, dep):\n",
    "    \n",
    "    year += 1\n",
    "    price *= dep\n",
    "    \n",
    "    return year, price"
   ]
  },
  {
   "cell_type": "code",
   "execution_count": 5,
   "metadata": {},
   "outputs": [],
   "source": [
    "bike_price = 2000\n",
    "bike_dep   = 0.90\n",
    "year       = 2021"
   ]
  },
  {
   "cell_type": "code",
   "execution_count": 6,
   "metadata": {},
   "outputs": [
    {
     "name": "stdout",
     "output_type": "stream",
     "text": [
      "Value of the item in year 2022 is £ 1800.0\n",
      "Value of the item in year 2023 is £ 1620.0\n",
      "Value of the item in year 2024 is £ 1458.0\n",
      "Value of the item in year 2025 is £ 1312.2\n",
      "Value of the item in year 2026 is £ 1180.98\n",
      "Value of the item in year 2027 is £ 1062.88\n",
      "Value of the item in year 2028 is £ 956.59\n"
     ]
    }
   ],
   "source": [
    "while bike_price > 1000:\n",
    "    year, bike_price = year_value_reduction(year, bike_price, bike_dep)\n",
    "        \n",
    "    print(\"Value of the item in year\", year, \"is £\", round(bike_price, 2))"
   ]
  },
  {
   "cell_type": "code",
   "execution_count": 7,
   "metadata": {},
   "outputs": [],
   "source": [
    "car_price = 25000\n",
    "car_dep   = 0.80\n",
    "year      = 2021"
   ]
  },
  {
   "cell_type": "code",
   "execution_count": 8,
   "metadata": {},
   "outputs": [
    {
     "name": "stdout",
     "output_type": "stream",
     "text": [
      "Value of the item in year 2022 is £ 20000.0\n",
      "Value of the item in year 2023 is £ 16000.0\n",
      "Value of the item in year 2024 is £ 12800.0\n",
      "Value of the item in year 2025 is £ 10240.0\n",
      "Value of the item in year 2026 is £ 8192.0\n",
      "Value of the item in year 2027 is £ 6553.6\n",
      "Value of the item in year 2028 is £ 5242.880000000001\n",
      "Value of the item in year 2029 is £ 4194.304000000001\n",
      "Value of the item in year 2030 is £ 3355.443200000001\n",
      "Value of the item in year 2031 is £ 2684.354560000001\n",
      "Value of the item in year 2032 is £ 2147.483648000001\n",
      "Value of the item in year 2033 is £ 1717.9869184000008\n",
      "Value of the item in year 2034 is £ 1374.3895347200007\n",
      "Value of the item in year 2035 is £ 1099.5116277760005\n",
      "Value of the item in year 2036 is £ 879.6093022208005\n"
     ]
    }
   ],
   "source": [
    "while car_price > 1000:\n",
    "    year, car_price = year_value_reduction(year, car_price, car_dep)\n",
    "    \n",
    "    print(\"Value of the item in year\", year, \"is £\", car_price)"
   ]
  },
  {
   "cell_type": "code",
   "execution_count": 14,
   "metadata": {},
   "outputs": [],
   "source": [
    "def year_value_reduction(year, price, dep):\n",
    "    while price > 1000:\n",
    "        print(\"Value of the item in year\", year, \"is £\", price)\n",
    "        year += 1\n",
    "        price = price * dep\n",
    "    return year, price"
   ]
  },
  {
   "cell_type": "code",
   "execution_count": 15,
   "metadata": {},
   "outputs": [
    {
     "data": {
      "text/plain": [
       "(2036, 956.5938000000001)"
      ]
     },
     "execution_count": 15,
     "metadata": {},
     "output_type": "execute_result"
    }
   ],
   "source": [
    "year_value_reduction(year, bike_price, bike_dep)"
   ]
  },
  {
   "cell_type": "code",
   "execution_count": 21,
   "metadata": {},
   "outputs": [],
   "source": [
    "def calculator(num_1,num_2):\n",
    "    menuOption = input(\"Please type the operator you require, a to add, b to subtract, c to  divide, d to multiply, e to the power of, f to floor divide\")\n",
    "    \n",
    "    if menuOption == 'a':\n",
    "        print (num_1+num_2)\n",
    "    elif menuOption == 'b':\n",
    "        print (num_1-num_2)\n",
    "    elif menuOption == 'c':\n",
    "         print (num_1/num_2)\n",
    "    elif menuOption == 'd':\n",
    "        print (num_1*num_2)\n",
    "    elif menuOption == 'e':\n",
    "        print (num_1**num_2)\n",
    "    elif menuOption == 'f':\n",
    "        print (num_1//num_2)\n",
    "    else:\n",
    "        print(\"input error please re-enter operator\")\n"
   ]
  },
  {
   "cell_type": "code",
   "execution_count": 22,
   "metadata": {},
   "outputs": [
    {
     "name": "stdout",
     "output_type": "stream",
     "text": [
      "Hello, please enter two numbers you would like to calculate\n"
     ]
    }
   ],
   "source": [
    "print(\"Hello, please enter two numbers you would like to calculate\")\n",
    "\n",
    "number_1 = int(input(\"Please enter your first number\"))\n",
    "number_2 = int(input(\"Please enter your second number\"))"
   ]
  },
  {
   "cell_type": "code",
   "execution_count": 23,
   "metadata": {},
   "outputs": [
    {
     "name": "stdout",
     "output_type": "stream",
     "text": [
      "-3\n"
     ]
    }
   ],
   "source": [
    "calculator(number_1,number_2)"
   ]
  }
 ],
 "metadata": {
  "interpreter": {
   "hash": "aee8b7b246df8f9039afb4144a1f6fd8d2ca17a180786b69acc140d282b71a49"
  },
  "kernelspec": {
   "display_name": "Python 3.10.2 64-bit",
   "language": "python",
   "name": "python3"
  },
  "language_info": {
   "codemirror_mode": {
    "name": "ipython",
    "version": 3
   },
   "file_extension": ".py",
   "mimetype": "text/x-python",
   "name": "python",
   "nbconvert_exporter": "python",
   "pygments_lexer": "ipython3",
   "version": "3.10.2"
  },
  "orig_nbformat": 4
 },
 "nbformat": 4,
 "nbformat_minor": 2
}
