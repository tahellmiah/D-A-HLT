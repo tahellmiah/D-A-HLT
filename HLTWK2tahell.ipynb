{
 "cells": [
  {
   "cell_type": "code",
   "execution_count": null,
   "metadata": {},
   "outputs": [],
   "source": [
    "number = int(input(\"Enter a number greater than 10: \"))\n",
    "\n",
    "if number > 10:\n",
    "    print(\"number is greater than 10\")\n",
    "else:\n",
    "    print(\"number is smaller than 10\")"
   ]
  },
  {
   "cell_type": "code",
   "execution_count": null,
   "metadata": {},
   "outputs": [],
   "source": [
    "def year_value_reduction(year, price, dep):\n",
    "\n",
    "    year +=1\n",
    "    price *= dep\n",
    "    return year,price"
   ]
  },
  {
   "cell_type": "code",
   "execution_count": null,
   "metadata": {},
   "outputs": [],
   "source": [
    "bike_price = 2000\n",
    "bike_dep = 0.90\n",
    "year = 2021"
   ]
  },
  {
   "cell_type": "code",
   "execution_count": null,
   "metadata": {},
   "outputs": [],
   "source": [
    "while bike_price > 1000:\n",
    "    year, bike_price = year_value_reduction(year, bike_price, bike_dep)\n",
    "\n",
    "print(\"value of the item in year\", year, \"is £\", round(bike_price, 2))"
   ]
  },
  {
   "cell_type": "code",
   "execution_count": null,
   "metadata": {},
   "outputs": [],
   "source": [
    "num1 = int(input('first number'))\n",
    "num2 = int(input('second number'))\n",
    "option = int(input('select 1 for addition, 2 for subtraction, 3 for multiplication'))\n",
    "\n",
    "def function1 (num1, num2):\n",
    "    sum = num1 + num2\n",
    "    print(sum)\n",
    "\n",
    "def function2 (num1, num2):\n",
    "    sum = num1 - num2\n",
    "    print(sum)\n",
    "\n",
    "def function3 (num1, num2):\n",
    "    sum = num1 * num2\n",
    "    print(sum)\n",
    "\n",
    "\n",
    "if (option == 1):\n",
    "    function1 (num1, num2)\n",
    "    sum = num1 + num2\n",
    "    print(sum)\n",
    "\n",
    "elif (option == 2):\n",
    "    function2 (num1, num2)\n",
    "    sum = num1 - num2\n",
    "    print(sum)\n",
    "\n",
    "elif (option == 3):\n",
    "    function2 (num1, num2)\n",
    "    sum = num1 * num2\n",
    "    print(sum)\n",
    "else: \n",
    "    print('not correct option')\n"
   ]
  }
 ],
 "metadata": {
  "interpreter": {
   "hash": "aee8b7b246df8f9039afb4144a1f6fd8d2ca17a180786b69acc140d282b71a49"
  },
  "kernelspec": {
   "display_name": "Python 3.10.2 64-bit",
   "language": "python",
   "name": "python3"
  },
  "language_info": {
   "codemirror_mode": {
    "name": "ipython",
    "version": 3
   },
   "file_extension": ".py",
   "mimetype": "text/x-python",
   "name": "python",
   "nbconvert_exporter": "python",
   "pygments_lexer": "ipython3",
   "version": "3.10.2"
  },
  "orig_nbformat": 4
 },
 "nbformat": 4,
 "nbformat_minor": 2
}
